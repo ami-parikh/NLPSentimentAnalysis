{
 "cells": [
  {
   "cell_type": "code",
   "execution_count": 23,
   "metadata": {},
   "outputs": [],
   "source": [
    "import pandas as pd\n",
    "from keras.datasets import imdb\n",
    "from keras import preprocessing\n",
    "import keras\n",
    "from keras.models import Sequential\n",
    "from keras.layers import Flatten, Dense, Embedding, Dropout, Conv1D, MaxPooling1D,LSTM\n",
    "from keras.preprocessing.text import Tokenizer\n",
    "from keras.preprocessing.sequence import pad_sequences\n",
    "import numpy as np\n"
   ]
  },
  {
   "cell_type": "code",
   "execution_count": 2,
   "metadata": {},
   "outputs": [],
   "source": [
    "max_features = 1000\n",
    "max_length = 50\n",
    "(x_train,y_train),(x_test, y_test) = imdb.load_data(num_words = max_features)\n"
   ]
  },
  {
   "cell_type": "code",
   "execution_count": 3,
   "metadata": {},
   "outputs": [],
   "source": [
    "x_train= preprocessing.sequence.pad_sequences(x_train, maxlen = max_length)\n",
    "x_test= preprocessing.sequence.pad_sequences(x_test, maxlen = max_length)"
   ]
  },
  {
   "cell_type": "code",
   "execution_count": 4,
   "metadata": {},
   "outputs": [],
   "source": [
    "num_classes=2\n",
    "y_train = keras.utils.to_categorical(y_train, num_classes)\n",
    "y_test = keras.utils.to_categorical(y_test, num_classes)"
   ]
  },
  {
   "cell_type": "code",
   "execution_count": 5,
   "metadata": {},
   "outputs": [],
   "source": [
    "transcripts = pd.read_csv(\"C:/University of Chicago/Project/MOUD/TranslatedTransripts/AllText.csv\")\n",
    "transcripts = transcripts[transcripts.Annotation !=0]\n",
    "transcripts.head(10)\n",
    "labels = transcripts[\"Annotation\"].tolist()\n",
    "texts = transcripts[\"TranslatedText\"].tolist()\n",
    "labels = [1 if x==1 else 0 for x in labels] #converting to format used in the Chollet \n"
   ]
  },
  {
   "cell_type": "code",
   "execution_count": 6,
   "metadata": {},
   "outputs": [],
   "source": [
    "maxlen=50\n",
    "training_samples=250\n",
    "validation_samples = 200\n",
    "max_words = 10000"
   ]
  },
  {
   "cell_type": "code",
   "execution_count": 7,
   "metadata": {},
   "outputs": [
    {
     "name": "stdout",
     "output_type": "stream",
     "text": [
      "found 1241 unique tokens\n"
     ]
    }
   ],
   "source": [
    "tokenizer= Tokenizer(num_words= max_words)\n",
    "tokenizer.fit_on_texts(texts)\n",
    "sequences = tokenizer.texts_to_sequences(texts)\n",
    "word_index = tokenizer.word_index\n",
    "print(\"found {} unique tokens\".format(len(word_index)))\n",
    "labels = np.asarray(labels)"
   ]
  },
  {
   "cell_type": "code",
   "execution_count": 8,
   "metadata": {},
   "outputs": [],
   "source": [
    "data = pad_sequences(sequences, maxlen=maxlen)"
   ]
  },
  {
   "cell_type": "code",
   "execution_count": 9,
   "metadata": {},
   "outputs": [
    {
     "name": "stdout",
     "output_type": "stream",
     "text": [
      "shape of data tensor: (450, 50)\n",
      "shape of labels tensor (450,)\n"
     ]
    }
   ],
   "source": [
    "print(\"shape of data tensor:\",data.shape)\n",
    "print(\"shape of labels tensor\",labels.shape)"
   ]
  },
  {
   "cell_type": "code",
   "execution_count": 10,
   "metadata": {},
   "outputs": [],
   "source": [
    "indices = np.arange(data.shape[0])"
   ]
  },
  {
   "cell_type": "code",
   "execution_count": 11,
   "metadata": {},
   "outputs": [],
   "source": [
    "np.random.shuffle(indices)\n",
    "data = data[indices]\n",
    "labels = labels[indices]"
   ]
  },
  {
   "cell_type": "code",
   "execution_count": 12,
   "metadata": {},
   "outputs": [],
   "source": [
    "x_train2 = data[:training_samples]\n",
    "y_train2 = labels[:training_samples]\n",
    "x_test2= data[training_samples:training_samples+validation_samples]\n",
    "y_test2 = labels[training_samples:training_samples+validation_samples]\n",
    "# convert class vectors to binary class matrices\n",
    "y_train2 = keras.utils.to_categorical(y_train2, num_classes)\n",
    "y_test2 = keras.utils.to_categorical(y_test2, num_classes)"
   ]
  },
  {
   "cell_type": "code",
   "execution_count": 13,
   "metadata": {},
   "outputs": [],
   "source": [
    "num_classes=2\n",
    "labels = keras.utils.to_categorical(labels, num_classes)\n"
   ]
  },
  {
   "cell_type": "code",
   "execution_count": 15,
   "metadata": {},
   "outputs": [],
   "source": [
    "#parsing the glove word embeddings file to use pre-trained glove embeddings\n",
    "import os\n",
    "glove_dir = \"C:/University of Chicago/Project/glove.6B/glove.6B.50d.txt\"\n",
    "embeddings_index={}\n",
    "f=open(glove_dir,encoding=\"utf8\")\n",
    "for line in f:\n",
    "    values = line.split()\n",
    "    word=values[0]\n",
    "    coefs = np.asarray(values[1:], dtype=\"float32\")\n",
    "    embeddings_index[word]=coefs\n",
    "f.close()"
   ]
  },
  {
   "cell_type": "code",
   "execution_count": 16,
   "metadata": {},
   "outputs": [],
   "source": [
    "#Preparing the Glove word embeddings matrix\n",
    "embedding_dim = 50\n",
    "embedding_vector = ()\n",
    "embedding_matrix = np.zeros((max_words, embedding_dim))\n",
    "for word,i in word_index.items():\n",
    "    if i < max_words:\n",
    "        embedding_vector = embeddings_index.get(word)\n",
    "        if embedding_vector is not None:\n",
    "            embedding_matrix[i] = embedding_vector"
   ]
  },
  {
   "cell_type": "code",
   "execution_count": 26,
   "metadata": {},
   "outputs": [
    {
     "name": "stdout",
     "output_type": "stream",
     "text": [
      "_________________________________________________________________\n",
      "Layer (type)                 Output Shape              Param #   \n",
      "=================================================================\n",
      "embedding_6 (Embedding)      (None, 50, 50)            500000    \n",
      "_________________________________________________________________\n",
      "dropout_5 (Dropout)          (None, 50, 50)            0         \n",
      "_________________________________________________________________\n",
      "conv1d_5 (Conv1D)            (None, 46, 64)            16064     \n",
      "_________________________________________________________________\n",
      "max_pooling1d_3 (MaxPooling1 (None, 11, 64)            0         \n",
      "_________________________________________________________________\n",
      "lstm_2 (LSTM)                (None, 11, 32)            12416     \n",
      "_________________________________________________________________\n",
      "flatten_2 (Flatten)          (None, 352)               0         \n",
      "_________________________________________________________________\n",
      "dense_1 (Dense)              (None, 32)                11296     \n",
      "_________________________________________________________________\n",
      "dense_2 (Dense)              (None, 2)                 66        \n",
      "=================================================================\n",
      "Total params: 539,842\n",
      "Trainable params: 539,842\n",
      "Non-trainable params: 0\n",
      "_________________________________________________________________\n"
     ]
    }
   ],
   "source": [
    "#model definition\n",
    "model = Sequential()\n",
    "model.add(Embedding(max_words,embedding_dim,input_length=maxlen))\n",
    "model.add(Dropout(0.2))\n",
    "model.add(Conv1D(64, 5, activation='relu'))\n",
    "model.add(MaxPooling1D(pool_size=4))\n",
    "model.add(LSTM(32,return_sequences=True))\n",
    "model.add(Flatten())\n",
    "model.add(Dense(32,activation='relu'))\n",
    "model.add(Dense(2,activation='softmax'))\n",
    "model.compile(optimizer='rmsprop', loss='binary_crossentropy',metrics=['acc'])\n",
    "model.summary()\n"
   ]
  },
  {
   "cell_type": "code",
   "execution_count": 27,
   "metadata": {},
   "outputs": [
    {
     "name": "stdout",
     "output_type": "stream",
     "text": [
      "Train on 20000 samples, validate on 5000 samples\n",
      "Epoch 1/10\n",
      "20000/20000 [==============================] - 356s 18ms/step - loss: 0.5560 - acc: 0.7025 - val_loss: 0.4828 - val_acc: 0.7606\n",
      "Epoch 2/10\n",
      "20000/20000 [==============================] - 334s 17ms/step - loss: 0.4580 - acc: 0.7792 - val_loss: 0.4699 - val_acc: 0.7678\n",
      "Epoch 3/10\n",
      "20000/20000 [==============================] - 339s 17ms/step - loss: 0.4293 - acc: 0.8007 - val_loss: 0.4661 - val_acc: 0.7728\n",
      "Epoch 4/10\n",
      "20000/20000 [==============================] - 351s 18ms/step - loss: 0.4014 - acc: 0.8179 - val_loss: 0.4743 - val_acc: 0.7742\n",
      "Epoch 5/10\n",
      "20000/20000 [==============================] - 341s 17ms/step - loss: 0.3756 - acc: 0.8307 - val_loss: 0.4688 - val_acc: 0.7716\n",
      "Epoch 6/10\n",
      "20000/20000 [==============================] - 332s 17ms/step - loss: 0.3465 - acc: 0.8477 - val_loss: 0.5102 - val_acc: 0.7620\n",
      "Epoch 7/10\n",
      "20000/20000 [==============================] - 330s 16ms/step - loss: 0.3157 - acc: 0.8652 - val_loss: 0.5351 - val_acc: 0.7572\n",
      "Epoch 8/10\n",
      "20000/20000 [==============================] - 330s 16ms/step - loss: 0.2912 - acc: 0.8751 - val_loss: 0.5227 - val_acc: 0.7582\n",
      "Epoch 9/10\n",
      "20000/20000 [==============================] - 332s 17ms/step - loss: 0.2669 - acc: 0.8860 - val_loss: 0.5672 - val_acc: 0.7570\n",
      "Epoch 10/10\n",
      "20000/20000 [==============================] - 335s 17ms/step - loss: 0.2393 - acc: 0.9008 - val_loss: 0.5981 - val_acc: 0.7590\n"
     ]
    }
   ],
   "source": [
    "history = model.fit(x_train, y_train, epochs=10, batch_size=32,validation_split=0.2)"
   ]
  },
  {
   "cell_type": "code",
   "execution_count": 28,
   "metadata": {},
   "outputs": [
    {
     "name": "stdout",
     "output_type": "stream",
     "text": [
      "450/450 [==============================] - 0s 197us/step\n"
     ]
    },
    {
     "data": {
      "text/plain": [
       "[1.0756058547231886, 0.5044444444444445]"
      ]
     },
     "execution_count": 28,
     "metadata": {},
     "output_type": "execute_result"
    }
   ],
   "source": [
    "model.evaluate(data,labels)"
   ]
  },
  {
   "cell_type": "code",
   "execution_count": null,
   "metadata": {},
   "outputs": [],
   "source": []
  }
 ],
 "metadata": {
  "kernelspec": {
   "display_name": "Python 3",
   "language": "python",
   "name": "python3"
  },
  "language_info": {
   "codemirror_mode": {
    "name": "ipython",
    "version": 3
   },
   "file_extension": ".py",
   "mimetype": "text/x-python",
   "name": "python",
   "nbconvert_exporter": "python",
   "pygments_lexer": "ipython3",
   "version": "3.6.4"
  }
 },
 "nbformat": 4,
 "nbformat_minor": 2
}
