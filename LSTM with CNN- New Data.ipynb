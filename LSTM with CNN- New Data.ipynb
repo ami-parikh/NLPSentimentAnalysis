{
 "cells": [
  {
   "cell_type": "code",
   "execution_count": 16,
   "metadata": {},
   "outputs": [],
   "source": [
    "import pandas as pd\n",
    "from keras.datasets import imdb\n",
    "from keras import preprocessing\n",
    "import keras\n",
    "from keras.models import Sequential\n",
    "from keras.layers import Flatten, Dense, Embedding, Dropout, Conv1D, MaxPooling1D,LSTM\n",
    "from keras.preprocessing.text import Tokenizer\n",
    "from keras.preprocessing.sequence import pad_sequences\n",
    "import numpy as np\n"
   ]
  },
  {
   "cell_type": "markdown",
   "metadata": {},
   "source": [
    "**importing imdb dataset**"
   ]
  },
  {
   "cell_type": "code",
   "execution_count": 17,
   "metadata": {},
   "outputs": [],
   "source": [
    "max_features = 1000\n",
    "max_length = 50\n",
    "(x_train,y_train),(x_test, y_test) = imdb.load_data(num_words = max_features)\n"
   ]
  },
  {
   "cell_type": "code",
   "execution_count": 18,
   "metadata": {},
   "outputs": [],
   "source": [
    "x_train= preprocessing.sequence.pad_sequences(x_train, maxlen = max_length)\n",
    "x_test= preprocessing.sequence.pad_sequences(x_test, maxlen = max_length)"
   ]
  },
  {
   "cell_type": "code",
   "execution_count": 19,
   "metadata": {},
   "outputs": [],
   "source": [
    "num_classes=2\n",
    "y_train = keras.utils.to_categorical(y_train, num_classes)\n",
    "y_test = keras.utils.to_categorical(y_test, num_classes)"
   ]
  },
  {
   "cell_type": "markdown",
   "metadata": {},
   "source": [
    "**importing and tokenising MOUD dataset**"
   ]
  },
  {
   "cell_type": "code",
   "execution_count": 20,
   "metadata": {},
   "outputs": [],
   "source": [
    "transcripts = pd.read_csv(\"C:/University of Chicago/Project/MOUD/TranslatedTransripts/AllText.csv\")\n",
    "transcripts = transcripts[transcripts.Annotation !=0]\n",
    "transcripts.head(10)\n",
    "labels = transcripts[\"Annotation\"].tolist()\n",
    "texts = transcripts[\"TranslatedText\"].tolist()\n",
    "labels = [1 if x==1 else 0 for x in labels] #converting to format used in the Chollet \n"
   ]
  },
  {
   "cell_type": "code",
   "execution_count": 21,
   "metadata": {},
   "outputs": [],
   "source": [
    "maxlen=50\n",
    "training_samples=250\n",
    "validation_samples = 200\n",
    "max_words = 10000"
   ]
  },
  {
   "cell_type": "code",
   "execution_count": 22,
   "metadata": {},
   "outputs": [
    {
     "name": "stdout",
     "output_type": "stream",
     "text": [
      "found 1241 unique tokens\n"
     ]
    }
   ],
   "source": [
    "tokenizer= Tokenizer(num_words= max_words)\n",
    "tokenizer.fit_on_texts(texts)\n",
    "sequences = tokenizer.texts_to_sequences(texts)\n",
    "word_index = tokenizer.word_index\n",
    "print(\"found {} unique tokens\".format(len(word_index)))\n",
    "labels = np.asarray(labels)"
   ]
  },
  {
   "cell_type": "code",
   "execution_count": 23,
   "metadata": {},
   "outputs": [],
   "source": [
    "data = pad_sequences(sequences, maxlen=maxlen)"
   ]
  },
  {
   "cell_type": "code",
   "execution_count": 24,
   "metadata": {},
   "outputs": [
    {
     "name": "stdout",
     "output_type": "stream",
     "text": [
      "shape of data tensor: (450, 50)\n",
      "shape of labels tensor (450,)\n"
     ]
    }
   ],
   "source": [
    "print(\"shape of data tensor:\",data.shape)\n",
    "print(\"shape of labels tensor\",labels.shape)"
   ]
  },
  {
   "cell_type": "code",
   "execution_count": 25,
   "metadata": {},
   "outputs": [],
   "source": [
    "indices = np.arange(data.shape[0])"
   ]
  },
  {
   "cell_type": "code",
   "execution_count": 26,
   "metadata": {},
   "outputs": [],
   "source": [
    "np.random.shuffle(indices)\n",
    "data = data[indices]\n",
    "labels = labels[indices]"
   ]
  },
  {
   "cell_type": "code",
   "execution_count": 27,
   "metadata": {},
   "outputs": [],
   "source": [
    "x_train2 = data[:training_samples]\n",
    "y_train2 = labels[:training_samples]\n",
    "x_test2= data[training_samples:training_samples+validation_samples]\n",
    "y_test2 = labels[training_samples:training_samples+validation_samples]\n",
    "# convert class vectors to binary class matrices\n",
    "y_train2 = keras.utils.to_categorical(y_train2, num_classes)\n",
    "y_test2 = keras.utils.to_categorical(y_test2, num_classes)"
   ]
  },
  {
   "cell_type": "code",
   "execution_count": 28,
   "metadata": {},
   "outputs": [],
   "source": [
    "num_classes=2\n",
    "labels = keras.utils.to_categorical(labels, num_classes)\n"
   ]
  },
  {
   "cell_type": "markdown",
   "metadata": {},
   "source": [
    "**importing and tokenising the product data set for reviews**"
   ]
  },
  {
   "cell_type": "code",
   "execution_count": 29,
   "metadata": {},
   "outputs": [],
   "source": [
    "\n",
    "import gzip\n",
    "\n",
    "def parse(path):\n",
    "  g = gzip.open(path, 'rb')\n",
    "  for l in g:\n",
    "    yield eval(l)\n",
    "\n",
    "def getDF(path):\n",
    "  i = 0\n",
    "  df = {}\n",
    "  for d in parse(path):\n",
    "    df[i] = d\n",
    "    i += 1\n",
    "  return pd.DataFrame.from_dict(df, orient='index')\n",
    "\n",
    "df = getDF('C:/University of Chicago/Project/reviews_Clothing_Shoes_and_Jewelry_5.json.gz')"
   ]
  },
  {
   "cell_type": "code",
   "execution_count": 40,
   "metadata": {
    "scrolled": false
   },
   "outputs": [],
   "source": [
    "sentiment = [1 if x>=3.0 else 0 for x in df.overall]\n"
   ]
  },
  {
   "cell_type": "code",
   "execution_count": 35,
   "metadata": {},
   "outputs": [],
   "source": [
    "transcript = df['reviewText']"
   ]
  },
  {
   "cell_type": "code",
   "execution_count": 51,
   "metadata": {},
   "outputs": [],
   "source": [
    "maxlen=50\n",
    "max_words = 10000\n",
    "num_classes=2"
   ]
  },
  {
   "cell_type": "code",
   "execution_count": 52,
   "metadata": {},
   "outputs": [
    {
     "name": "stdout",
     "output_type": "stream",
     "text": [
      "found 84924 unique tokens\n"
     ]
    }
   ],
   "source": [
    "tokenizer2= Tokenizer(num_words= max_words)\n",
    "tokenizer2.fit_on_texts(transcript)\n",
    "sequences2 = tokenizer2.texts_to_sequences(transcript)\n",
    "word_index2 = tokenizer2.word_index\n",
    "print(\"found {} unique tokens\".format(len(word_index2)))\n",
    "labels2 = np.asarray(sentiment)"
   ]
  },
  {
   "cell_type": "code",
   "execution_count": 53,
   "metadata": {},
   "outputs": [],
   "source": [
    "data2 = pad_sequences(sequences2, maxlen=maxlen)"
   ]
  },
  {
   "cell_type": "code",
   "execution_count": 54,
   "metadata": {},
   "outputs": [
    {
     "name": "stdout",
     "output_type": "stream",
     "text": [
      "shape of data tensor: (278677, 50)\n",
      "shape of labels tensor (278677,)\n"
     ]
    }
   ],
   "source": [
    "print(\"shape of data tensor:\",data2.shape)\n",
    "print(\"shape of labels tensor\",labels2.shape)"
   ]
  },
  {
   "cell_type": "code",
   "execution_count": 55,
   "metadata": {},
   "outputs": [],
   "source": [
    "indices = np.arange(data2.shape[0])"
   ]
  },
  {
   "cell_type": "code",
   "execution_count": 57,
   "metadata": {},
   "outputs": [],
   "source": [
    "np.random.shuffle(indices)\n",
    "data2 = data2[indices]\n",
    "labels2 = labels2[indices]"
   ]
  },
  {
   "cell_type": "code",
   "execution_count": 58,
   "metadata": {},
   "outputs": [],
   "source": [
    "training_samples2 = int(0.7*data2.shape[0])\n",
    "training_samples2\n",
    "validation_samples2 = data2.shape[0]-training_samples2"
   ]
  },
  {
   "cell_type": "code",
   "execution_count": 59,
   "metadata": {},
   "outputs": [],
   "source": [
    "x_train_product = data2[:training_samples2]\n",
    "y_train_product = labels2[:training_samples2]\n",
    "x_test_product= data2[training_samples2:training_samples2+validation_samples2]\n",
    "y_test_product = labels2[training_samples2:training_samples2+validation_samples2]\n",
    "# convert class vectors to binary class matrices\n",
    "y_train_product = keras.utils.to_categorical(y_train_product, num_classes)\n",
    "y_test_product = keras.utils.to_categorical(y_test_product, num_classes)"
   ]
  },
  {
   "cell_type": "code",
   "execution_count": 60,
   "metadata": {},
   "outputs": [],
   "source": [
    "\n",
    "labels2 = keras.utils.to_categorical(labels2, num_classes)\n"
   ]
  },
  {
   "cell_type": "markdown",
   "metadata": {},
   "source": [
    "**parsing the glove word embeddings file to use pre-trained glove embeddings**"
   ]
  },
  {
   "cell_type": "code",
   "execution_count": 61,
   "metadata": {},
   "outputs": [],
   "source": [
    "#parsing the glove word embeddings file to use pre-trained glove embeddings\n",
    "import os\n",
    "glove_dir = \"C:/University of Chicago/Project/glove.6B/glove.6B.50d.txt\"\n",
    "embeddings_index={}\n",
    "f=open(glove_dir,encoding=\"utf8\")\n",
    "for line in f:\n",
    "    values = line.split()\n",
    "    word=values[0]\n",
    "    coefs = np.asarray(values[1:], dtype=\"float32\")\n",
    "    embeddings_index[word]=coefs\n",
    "f.close()"
   ]
  },
  {
   "cell_type": "code",
   "execution_count": 62,
   "metadata": {},
   "outputs": [],
   "source": [
    "#Preparing the Glove word embeddings matrix\n",
    "embedding_dim = 50\n",
    "embedding_vector = ()\n",
    "embedding_matrix = np.zeros((max_words, embedding_dim))\n",
    "for word,i in word_index.items():\n",
    "    if i < max_words:\n",
    "        embedding_vector = embeddings_index.get(word)\n",
    "        if embedding_vector is not None:\n",
    "            embedding_matrix[i] = embedding_vector"
   ]
  },
  {
   "cell_type": "markdown",
   "metadata": {},
   "source": [
    "**CNN and LSTM model trained on product dataset**"
   ]
  },
  {
   "cell_type": "code",
   "execution_count": 63,
   "metadata": {},
   "outputs": [
    {
     "name": "stdout",
     "output_type": "stream",
     "text": [
      "_________________________________________________________________\n",
      "Layer (type)                 Output Shape              Param #   \n",
      "=================================================================\n",
      "embedding_1 (Embedding)      (None, 50, 50)            500000    \n",
      "_________________________________________________________________\n",
      "dropout_1 (Dropout)          (None, 50, 50)            0         \n",
      "_________________________________________________________________\n",
      "conv1d_1 (Conv1D)            (None, 46, 64)            16064     \n",
      "_________________________________________________________________\n",
      "max_pooling1d_1 (MaxPooling1 (None, 11, 64)            0         \n",
      "_________________________________________________________________\n",
      "lstm_1 (LSTM)                (None, 11, 32)            12416     \n",
      "_________________________________________________________________\n",
      "flatten_1 (Flatten)          (None, 352)               0         \n",
      "_________________________________________________________________\n",
      "dense_1 (Dense)              (None, 32)                11296     \n",
      "_________________________________________________________________\n",
      "dense_2 (Dense)              (None, 2)                 66        \n",
      "=================================================================\n",
      "Total params: 539,842\n",
      "Trainable params: 539,842\n",
      "Non-trainable params: 0\n",
      "_________________________________________________________________\n"
     ]
    }
   ],
   "source": [
    "#model definition\n",
    "model = Sequential()\n",
    "model.add(Embedding(max_words,embedding_dim,input_length=maxlen))\n",
    "model.add(Dropout(0.2))\n",
    "model.add(Conv1D(64, 5, activation='relu'))\n",
    "model.add(MaxPooling1D(pool_size=4))\n",
    "model.add(LSTM(32,return_sequences=True))\n",
    "model.add(Flatten())\n",
    "model.add(Dense(32,activation='relu'))\n",
    "model.add(Dense(2,activation='softmax'))\n",
    "model.compile(optimizer='rmsprop', loss='binary_crossentropy',metrics=['acc'])\n",
    "model.summary()\n"
   ]
  },
  {
   "cell_type": "code",
   "execution_count": 64,
   "metadata": {},
   "outputs": [
    {
     "name": "stdout",
     "output_type": "stream",
     "text": [
      "Train on 156058 samples, validate on 39015 samples\n",
      "Epoch 1/10\n",
      "156058/156058 [==============================] - 2579s 17ms/step - loss: 0.2183 - acc: 0.9161 - val_loss: 0.2031 - val_acc: 0.9243\n",
      "Epoch 2/10\n",
      "156058/156058 [==============================] - 2545s 16ms/step - loss: 0.1979 - acc: 0.9233 - val_loss: 0.1999 - val_acc: 0.9237\n",
      "Epoch 3/10\n",
      "156058/156058 [==============================] - 2545s 16ms/step - loss: 0.1920 - acc: 0.9255 - val_loss: 0.1900 - val_acc: 0.9262\n",
      "Epoch 4/10\n",
      "156058/156058 [==============================] - 2545s 16ms/step - loss: 0.1911 - acc: 0.9264 - val_loss: 0.1877 - val_acc: 0.9265\n",
      "Epoch 5/10\n",
      "156058/156058 [==============================] - 2542s 16ms/step - loss: 0.1912 - acc: 0.9265 - val_loss: 0.2095 - val_acc: 0.9263\n",
      "Epoch 6/10\n",
      "156058/156058 [==============================] - 2549s 16ms/step - loss: 0.1934 - acc: 0.9266 - val_loss: 0.1906 - val_acc: 0.9257\n",
      "Epoch 7/10\n",
      "156058/156058 [==============================] - 2537s 16ms/step - loss: 0.1945 - acc: 0.9262 - val_loss: 0.1928 - val_acc: 0.9256\n",
      "Epoch 8/10\n",
      "156058/156058 [==============================] - 2555s 16ms/step - loss: 0.1955 - acc: 0.9264 - val_loss: 0.1924 - val_acc: 0.9266\n",
      "Epoch 9/10\n",
      "156058/156058 [==============================] - 2561s 16ms/step - loss: 0.1969 - acc: 0.9267 - val_loss: 0.1982 - val_acc: 0.9244\n",
      "Epoch 10/10\n",
      "156058/156058 [==============================] - 2556s 16ms/step - loss: 0.2003 - acc: 0.9257 - val_loss: 0.2077 - val_acc: 0.9261\n"
     ]
    }
   ],
   "source": [
    "history = model.fit(x_train_product, y_train_product, epochs=10, batch_size=32,validation_split=0.2)"
   ]
  },
  {
   "cell_type": "code",
   "execution_count": 82,
   "metadata": {},
   "outputs": [
    {
     "name": "stdout",
     "output_type": "stream",
     "text": [
      "83604/83604 [==============================] - 12s 138us/step\n"
     ]
    },
    {
     "data": {
      "text/plain": [
       "[0.2083440597051154, 0.925314578244141]"
      ]
     },
     "execution_count": 82,
     "metadata": {},
     "output_type": "execute_result"
    }
   ],
   "source": [
    "model.evaluate(x_test_product,y_test_product)"
   ]
  },
  {
   "cell_type": "markdown",
   "metadata": {},
   "source": [
    "**Model using Product data reaches 92% accuracy**"
   ]
  },
  {
   "cell_type": "markdown",
   "metadata": {},
   "source": [
    "**Model using CNN, LSTM and MOUD data**"
   ]
  },
  {
   "cell_type": "code",
   "execution_count": 99,
   "metadata": {},
   "outputs": [
    {
     "name": "stdout",
     "output_type": "stream",
     "text": [
      "_________________________________________________________________\n",
      "Layer (type)                 Output Shape              Param #   \n",
      "=================================================================\n",
      "embedding_14 (Embedding)     (None, 50, 50)            500000    \n",
      "_________________________________________________________________\n",
      "dropout_17 (Dropout)         (None, 50, 50)            0         \n",
      "_________________________________________________________________\n",
      "conv1d_26 (Conv1D)           (None, 46, 64)            16064     \n",
      "_________________________________________________________________\n",
      "max_pooling1d_24 (MaxPooling (None, 11, 64)            0         \n",
      "_________________________________________________________________\n",
      "lstm_14 (LSTM)               (None, 11, 32)            12416     \n",
      "_________________________________________________________________\n",
      "flatten_13 (Flatten)         (None, 352)               0         \n",
      "_________________________________________________________________\n",
      "dense_25 (Dense)             (None, 32)                11296     \n",
      "_________________________________________________________________\n",
      "dense_26 (Dense)             (None, 2)                 66        \n",
      "=================================================================\n",
      "Total params: 539,842\n",
      "Trainable params: 539,842\n",
      "Non-trainable params: 0\n",
      "_________________________________________________________________\n"
     ]
    }
   ],
   "source": [
    "model2 = Sequential()\n",
    "model2.add(Embedding(max_words,embedding_dim,input_length=maxlen))\n",
    "model2.add(Dropout(0.2))\n",
    "model2.add(Conv1D(64, 5, activation='relu'))\n",
    "model2.add(MaxPooling1D(pool_size=4))\n",
    "model2.add(LSTM(32,return_sequences=True))\n",
    "model2.add(Flatten())\n",
    "model2.add(Dense(32,activation='relu'))\n",
    "model2.add(Dense(2,activation='softmax'))\n",
    "model2.compile(optimizer='rmsprop', loss='binary_crossentropy',metrics=['acc'])\n",
    "model2.summary()"
   ]
  },
  {
   "cell_type": "code",
   "execution_count": 100,
   "metadata": {},
   "outputs": [
    {
     "name": "stdout",
     "output_type": "stream",
     "text": [
      "Train on 200 samples, validate on 50 samples\n",
      "Epoch 1/10\n",
      "200/200 [==============================] - 5s 26ms/step - loss: 0.6965 - acc: 0.5050 - val_loss: 0.6717 - val_acc: 0.6800\n",
      "Epoch 2/10\n",
      "200/200 [==============================] - 4s 18ms/step - loss: 0.6923 - acc: 0.5000 - val_loss: 0.6932 - val_acc: 0.6000\n",
      "Epoch 3/10\n",
      "200/200 [==============================] - 3s 17ms/step - loss: 0.6858 - acc: 0.5700 - val_loss: 0.6920 - val_acc: 0.6000\n",
      "Epoch 4/10\n",
      "200/200 [==============================] - 4s 18ms/step - loss: 0.6682 - acc: 0.6450 - val_loss: 0.6672 - val_acc: 0.5800\n",
      "Epoch 5/10\n",
      "200/200 [==============================] - 3s 17ms/step - loss: 0.6331 - acc: 0.7300 - val_loss: 0.6484 - val_acc: 0.6200\n",
      "Epoch 6/10\n",
      "200/200 [==============================] - 3s 16ms/step - loss: 0.5516 - acc: 0.8200 - val_loss: 0.6354 - val_acc: 0.6200\n",
      "Epoch 7/10\n",
      "200/200 [==============================] - 4s 18ms/step - loss: 0.4470 - acc: 0.8250 - val_loss: 0.6834 - val_acc: 0.6200\n",
      "Epoch 8/10\n",
      "200/200 [==============================] - 3s 17ms/step - loss: 0.3577 - acc: 0.8400 - val_loss: 0.8524 - val_acc: 0.5800\n",
      "Epoch 9/10\n",
      "200/200 [==============================] - 4s 19ms/step - loss: 0.2620 - acc: 0.9300 - val_loss: 0.9718 - val_acc: 0.5600\n",
      "Epoch 10/10\n",
      "200/200 [==============================] - 4s 18ms/step - loss: 0.2271 - acc: 0.9150 - val_loss: 0.9608 - val_acc: 0.6200\n"
     ]
    }
   ],
   "source": [
    "history = model2.fit(x_train2,y_train2, epochs=10, batch_size=32 ,validation_split=0.2)"
   ]
  },
  {
   "cell_type": "code",
   "execution_count": 101,
   "metadata": {},
   "outputs": [
    {
     "name": "stdout",
     "output_type": "stream",
     "text": [
      "200/200 [==============================] - 0s 204us/step\n"
     ]
    },
    {
     "data": {
      "text/plain": [
       "[0.7131406927108764, 0.645]"
      ]
     },
     "execution_count": 101,
     "metadata": {},
     "output_type": "execute_result"
    }
   ],
   "source": [
    "model2.evaluate(x_test2,y_test2)"
   ]
  },
  {
   "cell_type": "code",
   "execution_count": null,
   "metadata": {},
   "outputs": [],
   "source": []
  }
 ],
 "metadata": {
  "kernelspec": {
   "display_name": "Python 3",
   "language": "python",
   "name": "python3"
  },
  "language_info": {
   "codemirror_mode": {
    "name": "ipython",
    "version": 3
   },
   "file_extension": ".py",
   "mimetype": "text/x-python",
   "name": "python",
   "nbconvert_exporter": "python",
   "pygments_lexer": "ipython3",
   "version": "3.6.4"
  }
 },
 "nbformat": 4,
 "nbformat_minor": 2
}
